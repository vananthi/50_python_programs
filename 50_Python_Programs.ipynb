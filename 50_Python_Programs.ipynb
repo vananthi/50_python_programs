{
  "cells": [
    {
      "cell_type": "markdown",
      "metadata": {
        "id": "view-in-github",
        "colab_type": "text"
      },
      "source": [
        "<a href=\"https://colab.research.google.com/github/vananthi/50_python_programs/blob/main/50_Python_Programs.ipynb\" target=\"_parent\"><img src=\"https://colab.research.google.com/assets/colab-badge.svg\" alt=\"Open In Colab\"/></a>"
      ]
    },
    {
      "cell_type": "markdown",
      "metadata": {
        "id": "UuHtYkWnz_pC"
      },
      "source": []
    },
    {
      "cell_type": "code",
      "execution_count": null,
      "metadata": {
        "colab": {
          "base_uri": "https://localhost:8080/"
        },
        "id": "ziD03xQQ0Bli",
        "outputId": "ceac5ef3-547d-4381-f897-d3e00a84013a"
      },
      "outputs": [
        {
          "name": "stdout",
          "output_type": "stream",
          "text": [
            "enter a value:34\n",
            "enter b value:67\n",
            "The value of a after swapping 67\n",
            "The value of b after swapping 34\n"
          ]
        }
      ],
      "source": [
        "# 1)Python program to swap two variables\n",
        "\n",
        "# To take inputs from the user\n",
        "a=int(input(\"enter a value:\"))\n",
        "b=int(input(\"enter b value:\"))\n",
        "\n",
        "# create a temporary variable and swap the values\n",
        "temp=a\n",
        "a=b\n",
        "b=temp\n",
        "\n",
        "print(\"The value of a after swapping\",a)\n",
        "print(\"The value of b after swapping\",b)"
      ]
    },
    {
      "cell_type": "code",
      "execution_count": null,
      "metadata": {
        "colab": {
          "base_uri": "https://localhost:8080/"
        },
        "id": "aPK1zSTG7GLo",
        "outputId": "d7124976-28ec-48a5-896e-68af02b17d49"
      },
      "outputs": [
        {
          "output_type": "stream",
          "name": "stdout",
          "text": [
            "enter num1 value:6\n",
            "enter num2 value:5\n",
            "The gcd of a num1 and num2 is: 1\n"
          ]
        }
      ],
      "source": [
        "# 2)To find GCD(Greatest Common Divisor) or HCF(High Common Factor) of two number in Python program\n",
        "\n",
        " #importing \"math\" for mathematical operations\n",
        "import math\n",
        "\n",
        "# To take inputs from the user\n",
        "num1=int(input(\"enter num1 value:\" ))\n",
        "num2=int(input(\"enter num2 value:\" ))\n",
        "\n",
        "gcd=math.gcd(num1,num2)\n",
        "\n",
        "print(\"The gcd of a num1 and num2 is:\",gcd)"
      ]
    },
    {
      "cell_type": "code",
      "execution_count": null,
      "metadata": {
        "colab": {
          "base_uri": "https://localhost:8080/"
        },
        "id": "7mU4SYiyCqjP",
        "outputId": "75872208-fdfc-4842-c230-16ed198c8548"
      },
      "outputs": [
        {
          "name": "stdout",
          "output_type": "stream",
          "text": [
            "Enter a value:86\n",
            "Enter b value56\n",
            "ARITHMATIC OPERATIONS\n",
            "----------------------------------\n",
            "Addtion           \t=\t 142\n",
            "Subration         \t=\t 30\n",
            "Multiplication    \t=\t 4816\n",
            "Division          \t=\t 1.5357142857142858\n",
            "Modulo Division   \t=\t 30\n",
            "Floor Division    \t=\t 1\n"
          ]
        }
      ],
      "source": [
        "# 3)Arithmatic operations Program in python\n",
        "\n",
        "# To take inputs from the user\n",
        "a=int(input(\"Enter a value:\"))\n",
        "b=int(input(\"Enter b value\"))\n",
        "print(\"ARITHMATIC OPERATIONS\")\n",
        "print(\"----------------------------------\")\n",
        "print(\"Addtion           \\t=\\t\",a+b)\n",
        "print(\"Subration         \\t=\\t\",a-b)\n",
        "print(\"Multiplication    \\t=\\t\",a*b)\n",
        "print(\"Division          \\t=\\t\",a/b)\n",
        "print(\"Modulo Division   \\t=\\t\",a%b)\n",
        "print(\"Floor Division    \\t=\\t\",a//b)\n"
      ]
    },
    {
      "cell_type": "code",
      "execution_count": null,
      "metadata": {
        "colab": {
          "base_uri": "https://localhost:8080/"
        },
        "id": "l3JQre4fGlhw",
        "outputId": "0e1e0999-b478-487c-faa8-a4ae9416b27e"
      },
      "outputs": [
        {
          "name": "stdout",
          "output_type": "stream",
          "text": [
            "enter a vlaue:4\n",
            "enter b value:5\n",
            "enter c value:6\n",
            "area of triangle is: 63.49803146555018\n"
          ]
        }
      ],
      "source": [
        "# 4)To find the Area of triangle in python program\n",
        "#(s = (a+b+c)/2,area = √(s(s-a)*(s-b)*(s-c)))\n",
        "\n",
        "# To take inputs from the user\n",
        "a=float(input(\"enter a vlaue:\"))\n",
        "b=float(input(\"enter b value:\"))\n",
        "c=float(input(\"enter c value:\"))\n",
        "\n",
        "#area of  perimeter\n",
        "s=a+b+c/2\n",
        "\n",
        "#area of triangle\n",
        "area=(s*(s-a)*(s-b)*(s-c))**0.5\n",
        "\n",
        "print(\"area of triangle is:\",area)"
      ]
    },
    {
      "cell_type": "code",
      "execution_count": null,
      "metadata": {
        "colab": {
          "base_uri": "https://localhost:8080/"
        },
        "id": "F8343XHQOOyf",
        "outputId": "be58be9e-ede7-460f-aa2f-35af9f491042"
      },
      "outputs": [
        {
          "name": "stdout",
          "output_type": "stream",
          "text": [
            "16\n"
          ]
        }
      ],
      "source": [
        "#5)Randam number gerator program using python program\n",
        "import random\n",
        "random_num=random.randint(1,20)\n",
        "print(random_num)"
      ]
    },
    {
      "cell_type": "code",
      "execution_count": null,
      "metadata": {
        "colab": {
          "base_uri": "https://localhost:8080/"
        },
        "id": "Xidq3YFyPLhJ",
        "outputId": "7fbbec20-d472-45d3-dbf3-4f7276ee5d05"
      },
      "outputs": [
        {
          "name": "stdout",
          "output_type": "stream",
          "text": [
            "['S', 'u', 'j', 'i', 'v', 'e', 'e', 'i', 'n', 'f', 'o', 't', 'e', 'c', 'h']\n"
          ]
        }
      ],
      "source": [
        "#6)Convert string to list in python program\n",
        "str=\"Sujiveeinfotech\"\n",
        "list=list(str)\n",
        "print(list)"
      ]
    },
    {
      "cell_type": "code",
      "execution_count": null,
      "metadata": {
        "colab": {
          "base_uri": "https://localhost:8080/"
        },
        "id": "4AfsShFUPoIh",
        "outputId": "83a86ce3-f15c-4700-80a6-29cbe1069d1f"
      },
      "outputs": [
        {
          "name": "stdout",
          "output_type": "stream",
          "text": [
            "p\n",
            "py\n",
            "pyt\n",
            "pyth\n",
            "pytho\n",
            "python\n",
            "pytho\n",
            "pyth\n",
            "pyt\n",
            "py\n",
            "p\n",
            "\n"
          ]
        }
      ],
      "source": [
        "#7)Python(string) Pyramid pattern using python program\n",
        "string=\"python\"\n",
        "x=0\n",
        "for i in string:\n",
        "  x=x+1\n",
        "  print(string[0:x])\n",
        "for i in string:\n",
        "  x=x-1\n",
        "  print(string[0:x])"
      ]
    },
    {
      "cell_type": "code",
      "execution_count": null,
      "metadata": {
        "colab": {
          "base_uri": "https://localhost:8080/"
        },
        "id": "Lo90_2qoRUGQ",
        "outputId": "0861d53a-f5b9-4d64-fc09-cb34d9204a8d"
      },
      "outputs": [
        {
          "name": "stdout",
          "output_type": "stream",
          "text": [
            "153 is armstrong number\n"
          ]
        }
      ],
      "source": [
        "#8) To find armstrong numbers using python\n",
        "num=153\n",
        "\n",
        "armstrong=sum(int(digit)**3 for digit in str(num))\n",
        "if num==armstrong:\n",
        "  print(num,\"is armstrong number\")\n",
        "else:\n",
        "  print(num,\"is not armstrong number\")"
      ]
    },
    {
      "cell_type": "code",
      "execution_count": null,
      "metadata": {
        "colab": {
          "base_uri": "https://localhost:8080/"
        },
        "id": "6FHnYTQ9aJPD",
        "outputId": "e0b9fabf-db71-4220-98c9-17eb19513e53"
      },
      "outputs": [
        {
          "name": "stdout",
          "output_type": "stream",
          "text": [
            "enter a value:5\n",
            "5.0 is a positive number\n"
          ]
        }
      ],
      "source": [
        "#9)Check if number is positive,negative or zero using pthon\n",
        "num=float(input(\"enter a value:\"))\n",
        "if num>=0:\n",
        "  print(num,\"is a positive number\")\n",
        "elif num==0:\n",
        "  print(num,\"is zero\")\n",
        "else:\n",
        "  print(num, \"is a negative number\")"
      ]
    },
    {
      "cell_type": "code",
      "execution_count": null,
      "metadata": {
        "colab": {
          "base_uri": "https://localhost:8080/"
        },
        "id": "qesDBGSzbQKP",
        "outputId": "c58b11af-514a-4bb9-a41d-d317f15fe298"
      },
      "outputs": [
        {
          "name": "stdout",
          "output_type": "stream",
          "text": [
            "2024 is a leap year\n"
          ]
        }
      ],
      "source": [
        "#10)to find 2024 is a Leap year or not using python program\n",
        "year=2024\n",
        "if(year%4==0 and year%100!=0) or (year%400==0):\n",
        "  print(\"2024 is a leap year\")\n",
        "else:\n",
        "  print(\"2024 is not a leap year\")"
      ]
    },
    {
      "cell_type": "code",
      "execution_count": null,
      "metadata": {
        "colab": {
          "base_uri": "https://localhost:8080/"
        },
        "id": "xV4Qc4MPcuAE",
        "outputId": "b4c8ccaa-fa3b-49f7-b71a-410a3ea441e7"
      },
      "outputs": [
        {
          "name": "stdout",
          "output_type": "stream",
          "text": [
            "*****\n",
            "****\n",
            "***\n",
            "**\n",
            "*\n"
          ]
        }
      ],
      "source": [
        "#11)reverse star patternaes using python\n",
        "\n",
        "for i in range(5,0,-1):\n",
        "  print(\"*\"*i)"
      ]
    },
    {
      "cell_type": "code",
      "execution_count": null,
      "metadata": {
        "colab": {
          "base_uri": "https://localhost:8080/"
        },
        "id": "x-hmRoiLbeO_",
        "outputId": "d1e063c6-6d60-4384-ba9c-0486e5b5cd40"
      },
      "outputs": [
        {
          "output_type": "stream",
          "name": "stdout",
          "text": [
            "\n",
            "*\n",
            "**\n",
            "***\n",
            "****\n",
            "*****\n"
          ]
        }
      ],
      "source": [
        "#12)star patternaes using python\n",
        "\n",
        "for i in range(0,6,1):\n",
        "  print(\"*\"*i)"
      ]
    },
    {
      "cell_type": "code",
      "execution_count": null,
      "metadata": {
        "colab": {
          "base_uri": "https://localhost:8080/"
        },
        "id": "abA78th7b3Z9",
        "outputId": "a5e15d51-3aa3-41f5-f825-baee1f5a71dd"
      },
      "outputs": [
        {
          "name": "stdout",
          "output_type": "stream",
          "text": [
            "enter a vlaue:5\n",
            "enter b vlaue:6\n",
            "add/sub/multi/divadd\n",
            "11.0\n"
          ]
        }
      ],
      "source": [
        "#13)Calculator Program in python\n",
        "\n",
        "a=float(input(\"enter a vlaue:\"))\n",
        "b=float(input(\"enter b vlaue:\"))\n",
        "c=input(\"add/sub/multi/div\")\n",
        "if (c==\"add\"):\n",
        "  print(a+b)\n",
        "elif(c==\"sub\"):\n",
        "  print(a-b)\n",
        "elif(c==\"multi\"):\n",
        "  print(a*b)\n",
        "elif(c==\"div\"):\n",
        "  print(a/b)\n",
        "else:\n",
        "  print(\"invalid operation\")\n",
        "\n"
      ]
    },
    {
      "cell_type": "code",
      "execution_count": null,
      "metadata": {
        "colab": {
          "base_uri": "https://localhost:8080/"
        },
        "id": "gqFRHfbDe0QZ",
        "outputId": "22898f19-b14e-4909-eeb9-57309b82bffb"
      },
      "outputs": [
        {
          "name": "stdout",
          "output_type": "stream",
          "text": [
            "456 x  1 = 456\n",
            "456 x  2 = 912\n",
            "456 x  3 = 1368\n",
            "456 x  4 = 1824\n",
            "456 x  5 = 2280\n",
            "456 x  6 = 2736\n",
            "456 x  7 = 3192\n",
            "456 x  8 = 3648\n",
            "456 x  9 = 4104\n",
            "456 x  10 = 4560\n"
          ]
        }
      ],
      "source": [
        "#14)Multiplication Table in python programe\n",
        "\n",
        "for i in range(1,11):\n",
        "  print(\"456 x \",i,\"=\",456*i)"
      ]
    },
    {
      "cell_type": "code",
      "execution_count": null,
      "metadata": {
        "colab": {
          "base_uri": "https://localhost:8080/"
        },
        "id": "wH_r4XeKggdC",
        "outputId": "7af9869f-142f-42ac-d210-bb9eb7352220"
      },
      "outputs": [
        {
          "output_type": "stream",
          "name": "stdout",
          "text": [
            "enter a number:10\n",
            "10 is not a prime number\n"
          ]
        }
      ],
      "source": [
        "#15)Find Prime number or Not using python\n",
        "\n",
        "# To take inputs from the user\n",
        "n=int(input(\"enter a number:\"))\n",
        "for i in range(2,n):\n",
        "  if (n%i==0):\n",
        "    print(n, \"is not a prime number\")\n",
        "    break\n",
        "else:\n",
        "    print(n,\"is a prime number\")"
      ]
    },
    {
      "cell_type": "code",
      "execution_count": null,
      "metadata": {
        "colab": {
          "base_uri": "https://localhost:8080/"
        },
        "id": "oVwpclPDlc7U",
        "outputId": "642cdd12-cea4-430a-9252-effce260fff4"
      },
      "outputs": [
        {
          "name": "stdout",
          "output_type": "stream",
          "text": [
            "120\n"
          ]
        }
      ],
      "source": [
        "#16) To find the factorial of number using python\n",
        "\n",
        "import math\n",
        "print(math.factorial(5))"
      ]
    },
    {
      "cell_type": "code",
      "source": [
        "n=5\n",
        "fact=1\n",
        "for i in range(1,n+1):\n",
        "  fact=fact*i\n",
        "print(fact)"
      ],
      "metadata": {
        "colab": {
          "base_uri": "https://localhost:8080/"
        },
        "id": "tZtJP8Pvf679",
        "outputId": "29b15f2f-dbc5-4a7b-a59c-5109784a65fe"
      },
      "execution_count": null,
      "outputs": [
        {
          "output_type": "stream",
          "name": "stdout",
          "text": [
            "120\n"
          ]
        }
      ]
    },
    {
      "cell_type": "code",
      "execution_count": null,
      "metadata": {
        "colab": {
          "base_uri": "https://localhost:8080/"
        },
        "id": "WSfDSAkplxuY",
        "outputId": "73e54aea-2358-41b2-a159-99a4853d4ffc"
      },
      "outputs": [
        {
          "output_type": "stream",
          "name": "stdout",
          "text": [
            "Enter string is MADAM\n",
            "MADAM The string is a palindrome\n"
          ]
        }
      ],
      "source": [
        "# 17)If check given string is Palindrome or not using python\n",
        "\n",
        "a=\"MADAM\"\n",
        "print(\"Enter string is MADAM\")\n",
        "if(a==a[::-1]):\n",
        "   print(a,\"The string is a palindrome\")\n",
        "else:\n",
        "   print(a,\"The string is not a palindrome\")\n"
      ]
    },
    {
      "cell_type": "code",
      "execution_count": null,
      "metadata": {
        "colab": {
          "base_uri": "https://localhost:8080/"
        },
        "id": "UFnHrC7ZFPty",
        "outputId": "961ffffb-b3d9-4c76-8e0f-57f364d8673b"
      },
      "outputs": [
        {
          "name": "stdout",
          "output_type": "stream",
          "text": [
            "enter a value:7\n",
            "7 is a odd number\n"
          ]
        }
      ],
      "source": [
        "#18)To find odd or even using python\n",
        "\n",
        "a=int(input(\"enter a value:\"))\n",
        "if(a%2==0):\n",
        "  print(a,\"is a even number\")\n",
        "else:\n",
        "  print(a,\"is a odd number\")"
      ]
    },
    {
      "cell_type": "code",
      "execution_count": null,
      "metadata": {
        "colab": {
          "base_uri": "https://localhost:8080/"
        },
        "id": "0zZdJs4UGId5",
        "outputId": "c0f6ac21-9cdc-4843-bd41-56a49bb3ddc7"
      },
      "outputs": [
        {
          "name": "stdout",
          "output_type": "stream",
          "text": [
            "nohtyp\n"
          ]
        }
      ],
      "source": [
        "#19)Reverse string using python\n",
        "\n",
        "a=\"python\"\n",
        "print(a[::-1])"
      ]
    },
    {
      "cell_type": "code",
      "execution_count": null,
      "metadata": {
        "colab": {
          "base_uri": "https://localhost:8080/"
        },
        "id": "hhoFPeQ2Hn2p",
        "outputId": "50f2a5b4-8568-4a9b-fb1c-d6d11e941d60"
      },
      "outputs": [
        {
          "name": "stdout",
          "output_type": "stream",
          "text": [
            "     March 1993\n",
            "Mo Tu We Th Fr Sa Su\n",
            " 1  2  3  4  5  6  7\n",
            " 8  9 10 11 12 13 14\n",
            "15 16 17 18 19 20 21\n",
            "22 23 24 25 26 27 28\n",
            "29 30 31\n",
            "\n"
          ]
        }
      ],
      "source": [
        "#20) To create calendar using python program\n",
        "\n",
        "import calendar\n",
        "yy=1993  #year\n",
        "mm=3    #month\n",
        "#display the caldendar\n",
        "print(calendar.month(yy, mm))\n"
      ]
    },
    {
      "cell_type": "code",
      "source": [
        "#21)Concatenating String using python program\n",
        "\n",
        "a=\"Python\"\n",
        "b=\"developer\"\n",
        "c=a+b\n",
        "print(\"Concatenating of a abd b is\",c)"
      ],
      "metadata": {
        "colab": {
          "base_uri": "https://localhost:8080/"
        },
        "id": "oXLCu_1JV7kz",
        "outputId": "5eb9d198-2277-481b-cae4-17c66ca27d02"
      },
      "execution_count": null,
      "outputs": [
        {
          "output_type": "stream",
          "name": "stdout",
          "text": [
            "Concatenating of a abd b is Pythondeveloper\n"
          ]
        }
      ]
    },
    {
      "cell_type": "code",
      "source": [
        "#22)Largest number among the three input numbers using python program\n",
        "\n",
        "# To take inputs from the user\n",
        "a=int(input(\"enter a value:\"))\n",
        "b=int(input(\"enter b value:\"))\n",
        "c=int(input(\"enter c value:\"))\n",
        "if(a>=b) and (a>=c):\n",
        "  print(a,\"is a largest number.\")\n",
        "elif(b>=a) and (b>=c):\n",
        "  print(b,\"is a largest number.\")\n",
        "else:\n",
        "  print(c,\"is a largeast number.\")"
      ],
      "metadata": {
        "colab": {
          "base_uri": "https://localhost:8080/"
        },
        "id": "QdlztcWlXo3b",
        "outputId": "eccc9ea6-45dd-4af0-e724-3bead11554f3"
      },
      "execution_count": null,
      "outputs": [
        {
          "output_type": "stream",
          "name": "stdout",
          "text": [
            "enter a value:6\n",
            "enter b value:2\n",
            "enter c value:9\n",
            "9 is a largeast number.\n"
          ]
        }
      ]
    },
    {
      "cell_type": "code",
      "source": [
        "#23) To create current date using python program\n",
        "\n",
        "from datetime import date\n",
        "today_date=date.today()\n",
        "print(\"Today_date:\",today_date)\n",
        "\n"
      ],
      "metadata": {
        "colab": {
          "base_uri": "https://localhost:8080/"
        },
        "id": "s4BL3ZXBjYPv",
        "outputId": "25fc567b-e81d-4b0c-f17f-eb800a363bde"
      },
      "execution_count": null,
      "outputs": [
        {
          "output_type": "stream",
          "name": "stdout",
          "text": [
            "Today_date: 2024-02-13\n"
          ]
        }
      ]
    },
    {
      "cell_type": "code",
      "source": [
        "#24) To create current time using python program\n",
        "\n",
        "# importing datetime module for now()\n",
        "import time\n",
        "\n",
        "# using now() to get current time\n",
        "current_time = datetime.datetime.now()\n",
        "\n",
        "# Printing value of now.\n",
        "print(\"Time now at greenwich meridian is:\", current_time)"
      ],
      "metadata": {
        "colab": {
          "base_uri": "https://localhost:8080/"
        },
        "id": "mEUY37Njkbe6",
        "outputId": "b7225319-b9d7-4bd0-dd13-94e0ec2abb31"
      },
      "execution_count": null,
      "outputs": [
        {
          "output_type": "stream",
          "name": "stdout",
          "text": [
            "Time now at greenwich meridian is: 2024-02-13 08:33:53.196697\n"
          ]
        }
      ]
    },
    {
      "cell_type": "code",
      "source": [
        "#25)To find LCM of two number in Python program\n",
        "\n",
        " #importing \"math\" for mathematical operations\n",
        "import math\n",
        "\n",
        "# To take inputs from the user\n",
        "num1=int(input(\"enter num1 value:\" ))\n",
        "num2=int(input(\"enter num2 value:\" ))\n",
        "\n",
        "lcm=math.lcm(num1,num2)\n",
        "\n",
        "print(\"The gcd of a num1 and num2 is:\",lcm)"
      ],
      "metadata": {
        "colab": {
          "base_uri": "https://localhost:8080/"
        },
        "id": "wxKyqsSNpXPL",
        "outputId": "c4640fda-cb63-48ca-91c0-cd5512c640e0"
      },
      "execution_count": null,
      "outputs": [
        {
          "output_type": "stream",
          "name": "stdout",
          "text": [
            "enter num1 value:6\n",
            "enter num2 value:5\n",
            "The gcd of a num1 and num2 is: 30\n"
          ]
        }
      ]
    },
    {
      "cell_type": "code",
      "source": [
        "#26)Function to find square of a number\n",
        "\n",
        "def find_square(num):\n",
        "  result=num*num\n",
        "  return result\n",
        "\n",
        "square=find_square(3)\n",
        "print(\"Square:\",square)"
      ],
      "metadata": {
        "colab": {
          "base_uri": "https://localhost:8080/"
        },
        "id": "0Q3pBUE6sAMK",
        "outputId": "295d9f14-b14d-4fce-af23-d74194eb5860"
      },
      "execution_count": null,
      "outputs": [
        {
          "output_type": "stream",
          "name": "stdout",
          "text": [
            "Square: 9\n"
          ]
        }
      ]
    },
    {
      "cell_type": "code",
      "source": [
        "#27)Convert temperature in Celsius to Fahrenheit using python program\n",
        "\n",
        "celsius=float(input(\"enter celsius value:\"))\n",
        "fahrenheit=(celsius*1.8)+32\n",
        "print(celsius,\"degree celsius is equal to\",fahrenheit,\"fahrenheit.\")\n"
      ],
      "metadata": {
        "colab": {
          "base_uri": "https://localhost:8080/"
        },
        "id": "AvqT3egZNcwH",
        "outputId": "8d597a81-2549-442c-83f5-07591c0e6e7d"
      },
      "execution_count": null,
      "outputs": [
        {
          "output_type": "stream",
          "name": "stdout",
          "text": [
            "enter celsius value:25\n",
            "25.0 degree celsius is equal to 77.0 fahrenheit.\n"
          ]
        }
      ]
    },
    {
      "cell_type": "code",
      "source": [
        "#28)Convert kilometers to miles using python program\n",
        "\n",
        "kilometer=float(input(\"enter kilometer\"))\n",
        "conv_fac=0.621\n",
        "miles=kilometer*conv_fac\n",
        "print(kilometer,\"kilometer is covert into\",miles,\"miles\")"
      ],
      "metadata": {
        "colab": {
          "base_uri": "https://localhost:8080/"
        },
        "id": "CH-0RLZYPWR4",
        "outputId": "2cb066e2-f836-4bcc-b1ba-e62a856fb6a1"
      },
      "execution_count": null,
      "outputs": [
        {
          "output_type": "stream",
          "name": "stdout",
          "text": [
            "enter kilometer85\n",
            "85.0 kilometer is covert into 52.785 miles\n"
          ]
        }
      ]
    },
    {
      "cell_type": "code",
      "source": [
        "#29)Python program to find Compound Interest\n",
        "\n",
        "def compound_interest(principal,rate,time):\n",
        "  amount=principal*(pow((1+rate/100),time))\n",
        "  CI=amount-principal\n",
        "  print(\"Compound Interest is\",CI)\n",
        "\n",
        "compound_interest(10000,10,5)\n"
      ],
      "metadata": {
        "colab": {
          "base_uri": "https://localhost:8080/"
        },
        "id": "-t5ngoukQrDx",
        "outputId": "0b8b369c-0339-4abc-ca76-ab36504013b5"
      },
      "execution_count": null,
      "outputs": [
        {
          "output_type": "stream",
          "name": "stdout",
          "text": [
            "Compound Interest is 6105.100000000006\n"
          ]
        }
      ]
    },
    {
      "cell_type": "code",
      "source": [
        "#30)check whether the element is present in list or not\n",
        "\n",
        "list=[1,2,5,6,88,4,9,10]\n",
        "n=int(input(\"enter a number:\"))\n",
        "if n in list:\n",
        "  print(\"exist in list\",n)\n",
        "else:\n",
        "  print(\"not exist in list\",n)\n"
      ],
      "metadata": {
        "colab": {
          "base_uri": "https://localhost:8080/"
        },
        "id": "wowTWhG4U3vX",
        "outputId": "6f8d6b8c-6e06-4629-f44b-16a6496a3515"
      },
      "execution_count": null,
      "outputs": [
        {
          "output_type": "stream",
          "name": "stdout",
          "text": [
            "enter a number:100\n",
            "not exist in list 100\n"
          ]
        }
      ]
    },
    {
      "cell_type": "code",
      "source": [
        "#31)Python programs using dictionaries to Merge the theory and practical marks of the students\n",
        "\n",
        "marks = {'Physics':67, 'Maths':87}\n",
        "int_marks = {'Practical':48}\n",
        "marks.update(int_marks)\n",
        "print(marks)"
      ],
      "metadata": {
        "colab": {
          "base_uri": "https://localhost:8080/"
        },
        "id": "xBbXdxDEWZhn",
        "outputId": "feeb537a-6b58-408d-f648-d91caa40f289"
      },
      "execution_count": null,
      "outputs": [
        {
          "output_type": "stream",
          "name": "stdout",
          "text": [
            "{'Physics': 67, 'Maths': 87, 'Practical': 48}\n"
          ]
        }
      ]
    },
    {
      "cell_type": "code",
      "source": [
        "#32)To reverse an number using python program\n",
        "\n",
        "\n",
        "number = int(input(\"Enter the integer number: \"))\n",
        "revs_number = 0\n",
        "while (number > 0):\n",
        "  # Logic\n",
        " remainder = number % 10\n",
        " revs_number = (revs_number * 10) + remainder\n",
        " number = number // 10\n",
        "print(\"The reverse number is : {}\".format(revs_number))"
      ],
      "metadata": {
        "id": "gb3NA_4ia8Yf",
        "colab": {
          "base_uri": "https://localhost:8080/"
        },
        "outputId": "c77ddaf1-0427-4473-8972-db0794412858"
      },
      "execution_count": 1,
      "outputs": [
        {
          "output_type": "stream",
          "name": "stdout",
          "text": [
            "Enter the integer number: 56\n",
            "The reverse number is : 65\n"
          ]
        }
      ]
    },
    {
      "cell_type": "code",
      "source": [
        "#33) To check whether a given character is an alphabet or not in Python\n",
        "\n",
        "print(\"Enter a character\")\n",
        "c=input()\n",
        "if (c>='a') and (c<='z'):\n",
        "  print(c,\"is an alphabet\")\n",
        "elif (c>='A') and (c<='Z'):\n",
        "  print(c,\"is an alphabet\")\n",
        "else:\n",
        "  print(c,\"is not an alphabet\")"
      ],
      "metadata": {
        "colab": {
          "base_uri": "https://localhost:8080/"
        },
        "id": "7kTwKiu9cGU8",
        "outputId": "70b2f199-cb8a-4101-f1c6-752bd05fa57f"
      },
      "execution_count": null,
      "outputs": [
        {
          "output_type": "stream",
          "name": "stdout",
          "text": [
            "Enter a character\n",
            "5\n",
            "5 is not an alphabet\n"
          ]
        }
      ]
    },
    {
      "cell_type": "code",
      "source": [
        "#34)Sum of n numbers using python program\n",
        "\n",
        "sum = 0\n",
        "print(\"Enter the Value of n: \")\n",
        "n = int(input())\n",
        "print(\"Enter \" + str(n) + \" Numbers: \")\n",
        "for i in range(n):\n",
        " num = int(input())\n",
        " sum = sum+num\n",
        "print(\"Sum of \" + str(n) + \" Numbers = \",sum)\n"
      ],
      "metadata": {
        "colab": {
          "base_uri": "https://localhost:8080/"
        },
        "id": "UXng7jY-fXc_",
        "outputId": "2943de4b-a4c1-48c4-a899-2926101279c7"
      },
      "execution_count": null,
      "outputs": [
        {
          "output_type": "stream",
          "name": "stdout",
          "text": [
            "Enter the Value of n: \n",
            "4\n",
            "Enter 4 Numbers: \n",
            "5\n",
            "7\n",
            "28\n",
            "45\n",
            "Sum of 4 Numbers =  85\n"
          ]
        }
      ]
    },
    {
      "cell_type": "code",
      "source": [
        "#35) Write a program to display the cube of the number up to on integer.\n",
        "\n",
        "n=int(input(\"enter a value:\"))\n",
        "for i in range(1,n+1):\n",
        "  print(\"cube of \"+ str(i) + \" is \",i**3)"
      ],
      "metadata": {
        "colab": {
          "base_uri": "https://localhost:8080/"
        },
        "id": "W3JZgAnOPSn7",
        "outputId": "e90850f5-406d-4f98-e44d-1915300469ed"
      },
      "execution_count": null,
      "outputs": [
        {
          "output_type": "stream",
          "name": "stdout",
          "text": [
            "enter a value:5\n",
            "cube of 1 is  1\n",
            "cube of 2 is  8\n",
            "cube of 3 is  27\n",
            "cube of 4 is  64\n",
            "cube of 5 is  125\n"
          ]
        }
      ]
    },
    {
      "cell_type": "code",
      "source": [
        "#36) Get a integer number from user and pass it to the function called findevenorodd().Let the function print whether the number is even or odd.\n",
        "\n",
        "def findevenorodd(b):\n",
        "  if (b%2==0):\n",
        "    print(\"even\")\n",
        "  else:\n",
        "    print(\"odd\")\n",
        "\n",
        "a=int(input(\"enter a value:\"))\n",
        "findevenorodd(a)"
      ],
      "metadata": {
        "colab": {
          "base_uri": "https://localhost:8080/"
        },
        "id": "oiq9GmqDaxP3",
        "outputId": "1e303ffb-ee4e-4ca9-cd51-c7073fee6c03"
      },
      "execution_count": null,
      "outputs": [
        {
          "output_type": "stream",
          "name": "stdout",
          "text": [
            "enter a value:5\n",
            "odd\n"
          ]
        }
      ]
    },
    {
      "cell_type": "code",
      "source": [
        "#37)Create function called add(),sub(),mul(),div()\n",
        "   #and get the input for a and b inside every function then print the result\n",
        "\n",
        "a=int(input(\"enter a value:\"))\n",
        "b=int(input(\"enter b value:\"))\n",
        "def add():\n",
        "  print(\"add:\",a+b)\n",
        "def sub():\n",
        "  print(\"sub:\",a-b)\n",
        "def mul():\n",
        "  print(\"mul:\",a*b)\n",
        "def div():\n",
        "  print(\"div:\",a/b)\n",
        "\n",
        "add()\n",
        "sub()\n",
        "mul()\n",
        "div()\n"
      ],
      "metadata": {
        "colab": {
          "base_uri": "https://localhost:8080/"
        },
        "id": "hGzjPONwcDUi",
        "outputId": "93bdd2ab-01d7-40c1-e09e-43b5810d76cc"
      },
      "execution_count": null,
      "outputs": [
        {
          "output_type": "stream",
          "name": "stdout",
          "text": [
            "enter a value:25\n",
            "enter b value:68\n",
            "add: 93\n",
            "sub: -43\n",
            "mul: 1700\n",
            "div: 0.36764705882352944\n"
          ]
        }
      ]
    },
    {
      "cell_type": "code",
      "source": [
        "#38)Get input from a and b and pass it to the function called printrange().\n",
        "    #Let the functions print the numbers from a and b.\n",
        "\n",
        "def printrange(r1,r2):\n",
        "  for i in range(r1,r2):\n",
        "    print(i)\n",
        "\n",
        "a=int(input(\"enter a value:\"))\n",
        "b=int(input(\"enter b value:\"))\n",
        "printrange(a,b)\n",
        "\n"
      ],
      "metadata": {
        "colab": {
          "base_uri": "https://localhost:8080/"
        },
        "id": "TPVVtKBZec1t",
        "outputId": "41db233e-c622-40db-a301-68f32457faa0"
      },
      "execution_count": null,
      "outputs": [
        {
          "output_type": "stream",
          "name": "stdout",
          "text": [
            "enter a value:6\n",
            "enter b value:9\n",
            "6\n",
            "7\n",
            "8\n"
          ]
        }
      ]
    },
    {
      "cell_type": "code",
      "source": [
        "a=int(input(\"enter a value:\"))\n",
        "b=int(input(\"enter b value:\"))\n",
        "\n",
        "def printrange():\n",
        "  for i in range(a,b):\n",
        "    print(i)\n",
        "printrange()\n"
      ],
      "metadata": {
        "colab": {
          "base_uri": "https://localhost:8080/"
        },
        "id": "73XkbR_HrnJu",
        "outputId": "ae633710-879b-4757-aaa6-98a9aa20df7a"
      },
      "execution_count": null,
      "outputs": [
        {
          "output_type": "stream",
          "name": "stdout",
          "text": [
            "enter a value:6\n",
            "enter b value:9\n",
            "6\n",
            "7\n",
            "8\n"
          ]
        }
      ]
    },
    {
      "cell_type": "code",
      "source": [
        "# 39)Set u_name=\"ananthi\" u_password=\"1345\" get input from user name and password .\n",
        "    #Create function called validate.\n",
        "    #If user name and pass matches the function should return True or False.\n",
        "\n",
        "\n",
        "u_name=\"ananthi\"\n",
        "u_password=\"1345\"\n",
        "user_name=str(input(\"Enter value user name:\"))\n",
        "password=int(input(\"Enter value user password:\"))\n",
        "def validate():\n",
        "  if(u_name==user_name) and (u_password==password):\n",
        "    return True\n",
        "  else:\n",
        "    return False\n",
        "\n",
        "a=validate()\n",
        "print(a)"
      ],
      "metadata": {
        "colab": {
          "base_uri": "https://localhost:8080/"
        },
        "id": "acsldQezmlay",
        "outputId": "314b6f5b-1688-42b4-f7b4-96b924c0b6c4"
      },
      "execution_count": null,
      "outputs": [
        {
          "output_type": "stream",
          "name": "stdout",
          "text": [
            "Enter value user name:sarath\n",
            "Enter value user password:564\n",
            "False\n"
          ]
        }
      ]
    },
    {
      "cell_type": "code",
      "source": [
        "#40)(a+b)*c\n",
        "    #Get input for a and b and function is called add(). which should return the sum of a and b.\n",
        "    #And multiply sum with c\n",
        "\n",
        "\n",
        "a=int(input(\"a:\"))\n",
        "b=int(input(\"b:\"))\n",
        "c=int(input(\"c:\"))\n",
        "def add():\n",
        "  return a+b\n",
        "\n",
        "obj=add()\n",
        "print(\"add:\",obj)\n",
        "print(\"multi:\",obj*c)"
      ],
      "metadata": {
        "colab": {
          "base_uri": "https://localhost:8080/"
        },
        "id": "3s8ks-sco46m",
        "outputId": "5d25e955-f350-48cd-fd74-e05fa53f3a4a"
      },
      "execution_count": null,
      "outputs": [
        {
          "output_type": "stream",
          "name": "stdout",
          "text": [
            "a:5\n",
            "b:10\n",
            "c:10\n",
            "add: 15\n",
            "multi: 150\n"
          ]
        }
      ]
    },
    {
      "cell_type": "code",
      "source": [
        "#41)Create a class called labtop and create a following variables and functions.\n",
        "    #Variuable=Processor,Price,Ram. Create object HP,LENOVA,DELL\n",
        "\n",
        "class labtop():\n",
        "  def __init__(self,m,p,pr,r):\n",
        "    self.model=m\n",
        "    self.price=p\n",
        "    self.processor=pr\n",
        "    self.ram=r\n",
        "  def display(self):\n",
        "    print(\"Model    :\",self.model)\n",
        "    print(\"Price    :\",self.price)\n",
        "    print(\"Processor:\",self.processor)\n",
        "    print(\"Ram      :\",self.ram)\n",
        "\n",
        "hp=labtop(\"HP\",\"50000\",\"i3\",\"8gb\")\n",
        "hp.display()\n",
        "print('\\n')\n",
        "lenova=labtop(\"LENOVA\",\"60000\",\"i3\",\"16gb\")\n",
        "lenova.display()\n",
        "print('\\n')\n",
        "dell=labtop(\"DELL\",\"40000\",\"i3\",\"8gb\")\n",
        "dell.display()"
      ],
      "metadata": {
        "colab": {
          "base_uri": "https://localhost:8080/"
        },
        "id": "Mhx08BsGovLu",
        "outputId": "cdacc27d-8c23-4e23-fa87-8e04e6103863"
      },
      "execution_count": null,
      "outputs": [
        {
          "output_type": "stream",
          "name": "stdout",
          "text": [
            "Model    : HP\n",
            "Price    : 50000\n",
            "Processor: i3\n",
            "Ram      : 8gb\n",
            "\n",
            "\n",
            "Model    : LENOVA\n",
            "Price    : 60000\n",
            "Processor: i3\n",
            "Ram      : 16gb\n",
            "\n",
            "\n",
            "Model    : DELL\n",
            "Price    : 40000\n",
            "Processor: i3\n",
            "Ram      : 8gb\n"
          ]
        }
      ]
    },
    {
      "cell_type": "code",
      "source": [
        "#42)Create a class called calculator .Create two variables a and b.\n",
        "    #Create a function called add,sub,div,multi all function should take two variables as a parameter.\n",
        "    #Pass the a and b value through the object()\n",
        "\n",
        "class calculator():\n",
        "  def __init__(self,a,b):\n",
        "    self.num_1=a\n",
        "    self.num_2=b\n",
        "  def add(self):\n",
        "    print('Addtion        :',self.num_1+self.num_2)\n",
        "  def sub(self):\n",
        "     print('subration     :',self.num_1-self.num_2)\n",
        "  def multi(self):\n",
        "     print('Multiplication:',self.num_1*self.num_2)\n",
        "  def div(self):\n",
        "     print('Division      :',self.num_1/self.num_2)\n",
        "\n",
        "obj=calculator(10,20)\n",
        "obj.add()\n",
        "obj.sub()\n",
        "obj.multi()\n",
        "obj.div()"
      ],
      "metadata": {
        "colab": {
          "base_uri": "https://localhost:8080/"
        },
        "id": "S_8pD4qErKil",
        "outputId": "257d5e15-339f-4e46-a36e-9dfcc7b9d834"
      },
      "execution_count": null,
      "outputs": [
        {
          "output_type": "stream",
          "name": "stdout",
          "text": [
            "Addtion        : 30\n",
            "subration     : -10\n",
            "Multiplication: 200\n",
            "Division      : 0.5\n"
          ]
        }
      ]
    },
    {
      "cell_type": "code",
      "source": [
        "#43)Create a base class called Shape with a method  area()  the returns 0.\n",
        "   #Create a derived class called Rectangle that inherits from shape and overrides the area()\n",
        "   #method to calculate and return the area of a rectangle.(Polimorphism)\n",
        "\n",
        "\n",
        "class shape():\n",
        "  def area(self):\n",
        "    return 0\n",
        "\n",
        "class rectangle(shape):\n",
        "  def area(self):\n",
        "    return l*b\n",
        "\n",
        "a=rectangle()\n",
        "\n",
        "l=float(input(\"enter l value:\"))\n",
        "b=float(input(\"enter b value:\"))\n",
        "r=a.area()\n",
        "print(\"Area of rectangle=\",r)\n",
        "\n",
        "\n"
      ],
      "metadata": {
        "colab": {
          "base_uri": "https://localhost:8080/"
        },
        "id": "_LxTD8vSRHm-",
        "outputId": "a884d334-dacd-4d00-dfe0-4c979b7cddc3"
      },
      "execution_count": null,
      "outputs": [
        {
          "output_type": "stream",
          "name": "stdout",
          "text": [
            "enter l value:5\n",
            "enter b value:6\n",
            "Area of rectangle= 30.0\n"
          ]
        }
      ]
    },
    {
      "cell_type": "code",
      "source": [
        "#44)Create a base class called Person with a constructor that takes a Name as a parameter.\n",
        "  #Create a derived class called Student that inherits from Person as an constructor that take a parameter called Grade.\n",
        "  #Write a method in student to display the name and grade of the student .Use super keyword to achive this.\n",
        "\n",
        "class person():\n",
        "  def __init__(self,name):\n",
        "    self.name=name\n",
        "\n",
        "class student(person):\n",
        "  def __init__(self,name,grade):\n",
        "    self.grade=grade\n",
        "    super().__init__(name)\n",
        "\n",
        "  def display(self):\n",
        "    print(\"Student name is:\",self.name)\n",
        "    print(\"Student grade is:\",self.grade)\n",
        "\n",
        "s=student(\"Ananthi\",\"A\")\n",
        "s.display()"
      ],
      "metadata": {
        "colab": {
          "base_uri": "https://localhost:8080/"
        },
        "id": "h_ualAgiTsW_",
        "outputId": "328e8feb-b442-4648-aa9b-9ff2da46d2ba"
      },
      "execution_count": null,
      "outputs": [
        {
          "output_type": "stream",
          "name": "stdout",
          "text": [
            "Student name is: Ananthi\n",
            "Student grade is: A\n"
          ]
        }
      ]
    },
    {
      "cell_type": "code",
      "source": [
        "#45)Create a base class called Vehicle with a method Start() that prints \"Vehicle is starts\".\n",
        "  #Create a derived class called Car that inherits from Vehicle and overrides the Start() method to print \"Car started\".\n",
        "\n",
        "class vehicle():\n",
        "  def start(self):\n",
        "    print(\"Vehicle is starts\")\n",
        "\n",
        "class car(vehicle):\n",
        "  def start(self):\n",
        "    super().__init__()\n",
        "    print(\"Car started\")\n",
        "\n",
        "obj=car()\n",
        "obj.start()"
      ],
      "metadata": {
        "colab": {
          "base_uri": "https://localhost:8080/"
        },
        "id": "IvnTKZhP5L5F",
        "outputId": "cc863726-839e-4988-f7b1-2e04265a0c8c"
      },
      "execution_count": null,
      "outputs": [
        {
          "output_type": "stream",
          "name": "stdout",
          "text": [
            "Car started\n"
          ]
        }
      ]
    },
    {
      "cell_type": "code",
      "source": [
        "#46)Create a base class called Employee with properties name and salary.\n",
        "  #Create a derived class called Manager  that inherites from Employee and adds a property departement.\n",
        "  # Write a method in Manager to display the name,salary,and departement of the manager.\n",
        "\n",
        "class employee():\n",
        "  def __init__(self,name,salary):\n",
        "    self.name=name\n",
        "    self.salary=salary\n",
        "\n",
        "class manager(employee):\n",
        "  def __init__(self,name,salary,department):\n",
        "    self.department=department\n",
        "    super().__init__(name,salary)\n",
        "\n",
        "  def display(self):\n",
        "    print(\"Emplay name      :\",self.name)\n",
        "    print(\"Emplay salary    :\",self.salary)\n",
        "    print(\"Emplay department:\",self.department)\n",
        "m=manager(\"Ananthi\",\"50000\",\"Developer\")\n",
        "m.display()\n"
      ],
      "metadata": {
        "colab": {
          "base_uri": "https://localhost:8080/"
        },
        "id": "69MK7HPQ7fku",
        "outputId": "a70ab16f-921c-49f6-ec10-6fb69c688a5a"
      },
      "execution_count": null,
      "outputs": [
        {
          "output_type": "stream",
          "name": "stdout",
          "text": [
            "Emplay name      : Ananthi\n",
            "Emplay salary    : 50000\n",
            "Emplay department: Developer\n"
          ]
        }
      ]
    },
    {
      "cell_type": "code",
      "source": [
        "#47) Program to find substring in a given string\n",
        "\n",
        "fullstring =input(\"Enter the string \")\n",
        "substring = input(\"Enter the substring to search for\")\n",
        "if substring in fullstring:\n",
        " print(\"Found!\")\n",
        "else:\n",
        " print(\"Not found!\")"
      ],
      "metadata": {
        "id": "jOZXZW6ESWSn",
        "colab": {
          "base_uri": "https://localhost:8080/"
        },
        "outputId": "32141044-5a06-47fb-9212-3ce0579eebbe"
      },
      "execution_count": 2,
      "outputs": [
        {
          "output_type": "stream",
          "name": "stdout",
          "text": [
            "Enter the string python\n",
            "Enter the substring to search forpy\n",
            "Found!\n"
          ]
        }
      ]
    },
    {
      "cell_type": "code",
      "source": [
        "#48). Program to find Vowels in a Strings\n",
        "\n",
        "\n",
        "string=input(\"Enter string:\")\n",
        "vowels=0\n",
        "for i in string:\n",
        " if(i=='a' or i=='e' or i=='i' or i=='o' or i=='u' or i=='A' or i=='E'or i=='I' or i=='O' or i=='U'):\n",
        "  vowels=vowels+1\n",
        "print(\"Number of vowels are:\")\n",
        "print(vowels)"
      ],
      "metadata": {
        "colab": {
          "base_uri": "https://localhost:8080/"
        },
        "id": "8WG8mCr8R2aY",
        "outputId": "2c6f4d3c-d12b-4deb-eda7-2c2d2aeb62e8"
      },
      "execution_count": 5,
      "outputs": [
        {
          "output_type": "stream",
          "name": "stdout",
          "text": [
            "Enter string:f\n",
            "Number of vowels are:\n",
            "0\n"
          ]
        }
      ]
    },
    {
      "cell_type": "code",
      "source": [
        "#49)Python Program to generate all the divisors of an integer\n",
        "\n",
        "n=int(input(\"Enter an integer:\"))\n",
        "print(\"The divisors of the number are:\")\n",
        "for i in range(1,n+1):\n",
        " if(n%i==0):\n",
        "  print(i)"
      ],
      "metadata": {
        "colab": {
          "base_uri": "https://localhost:8080/"
        },
        "id": "7i2cn6i-Sdt1",
        "outputId": "bbbfcb84-0c54-4e03-c0fb-22b1c0d8439d"
      },
      "execution_count": 7,
      "outputs": [
        {
          "output_type": "stream",
          "name": "stdout",
          "text": [
            "Enter an integer:4\n",
            "The divisors of the number are:\n",
            "1\n",
            "2\n",
            "4\n"
          ]
        }
      ]
    },
    {
      "cell_type": "code",
      "source": [
        "#50)Python Program to take in the marks of 5 subjects and display the grade\n",
        "\n",
        "\n",
        "sub1=int(input(\"Enter marks of the first subject: \"))\n",
        "sub2=int(input(\"Enter marks of the second subject: \"))\n",
        "sub3=int(input(\"Enter marks of the third subject: \"))\n",
        "sub4=int(input(\"Enter marks of the fourth subject: \"))\n",
        "sub5=int(input(\"Enter marks of the fifth subject: \"))\n",
        "avg=(sub1+sub2+sub3+sub4+sub4)//5\n",
        "if(avg>=90):\n",
        " print(\"Grade: A\")\n",
        "elif(avg>=80&avg<90):\n",
        "  print(\"Grade: B\")\n",
        "elif(avg>=70&avg<80):\n",
        " print(\"Grade: C\")\n",
        "elif(avg>=60&avg<70):\n",
        " print(\"Grade: D\")\n",
        "else:\n",
        " print(\"Grade: F\")"
      ],
      "metadata": {
        "colab": {
          "base_uri": "https://localhost:8080/"
        },
        "id": "Pz62DJndS1q5",
        "outputId": "a3e34a31-5bbd-4a6d-cacd-cbdc1d2f70bc"
      },
      "execution_count": 8,
      "outputs": [
        {
          "output_type": "stream",
          "name": "stdout",
          "text": [
            "Enter marks of the first subject: 80\n",
            "Enter marks of the second subject: 95\n",
            "Enter marks of the third subject: 96\n",
            "Enter marks of the fourth subject: 98\n",
            "Enter marks of the fifth subject: 96\n",
            "Grade: A\n"
          ]
        }
      ]
    }
  ],
  "metadata": {
    "colab": {
      "provenance": [],
      "authorship_tag": "ABX9TyOcbYaHBHhL3W1TmSmhpBLw",
      "include_colab_link": true
    },
    "kernelspec": {
      "display_name": "Python 3",
      "name": "python3"
    },
    "language_info": {
      "name": "python"
    }
  },
  "nbformat": 4,
  "nbformat_minor": 0
}