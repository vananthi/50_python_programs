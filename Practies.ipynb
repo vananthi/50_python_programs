{
  "nbformat": 4,
  "nbformat_minor": 0,
  "metadata": {
    "colab": {
      "provenance": [],
      "authorship_tag": "ABX9TyPKZZXnF7wGQHRIlm9pOl02",
      "include_colab_link": true
    },
    "kernelspec": {
      "name": "python3",
      "display_name": "Python 3"
    },
    "language_info": {
      "name": "python"
    }
  },
  "cells": [
    {
      "cell_type": "markdown",
      "metadata": {
        "id": "view-in-github",
        "colab_type": "text"
      },
      "source": [
        "<a href=\"https://colab.research.google.com/github/vananthi/50_python_programs/blob/main/Practies.ipynb\" target=\"_parent\"><img src=\"https://colab.research.google.com/assets/colab-badge.svg\" alt=\"Open In Colab\"/></a>"
      ]
    },
    {
      "cell_type": "code",
      "execution_count": 2,
      "metadata": {
        "colab": {
          "base_uri": "https://localhost:8080/"
        },
        "id": "1f4StiQYKW7d",
        "outputId": "bda45ce4-6788-470a-ef7c-7544384880d8"
      },
      "outputs": [
        {
          "output_type": "stream",
          "name": "stdout",
          "text": [
            "dfrgt5y\n",
            "y5tgrfd\n"
          ]
        }
      ],
      "source": [
        "#Revese string\n",
        "def revers_string(n):\n",
        "  return(str(n[::-1]))\n",
        "n=input()\n",
        "print(revers_string(n))"
      ]
    },
    {
      "cell_type": "code",
      "source": [
        "# Ternary operator\n",
        "\n",
        "a=10\n",
        "b=20\n",
        "result=a if a<b else b\n",
        "print(result)"
      ],
      "metadata": {
        "colab": {
          "base_uri": "https://localhost:8080/"
        },
        "id": "GpDQaj1ONVja",
        "outputId": "a3e9d118-f9f0-4a73-9a2c-02f14041aef0"
      },
      "execution_count": 9,
      "outputs": [
        {
          "output_type": "stream",
          "name": "stdout",
          "text": [
            "10\n"
          ]
        }
      ]
    },
    {
      "cell_type": "code",
      "source": [
        "#Membership operator\n",
        "\n",
        "a=[\"Apple\",\"Orange\",\"Banana\"]\n",
        "print(\"Apple\" in a)\n",
        "\n",
        "print(\"Mango\" in a)"
      ],
      "metadata": {
        "colab": {
          "base_uri": "https://localhost:8080/"
        },
        "id": "yxs1Xew5N0Ii",
        "outputId": "d19df5fa-6e99-4325-8ed0-1d368eb75ab2"
      },
      "execution_count": 11,
      "outputs": [
        {
          "output_type": "stream",
          "name": "stdout",
          "text": [
            "True\n",
            "False\n"
          ]
        }
      ]
    },
    {
      "cell_type": "code",
      "source": [
        "#find()\n",
        "\n",
        "a=\"apple\"\n",
        "index=a.find(\"e\")\n",
        "print(index)"
      ],
      "metadata": {
        "colab": {
          "base_uri": "https://localhost:8080/"
        },
        "id": "X7m0Hx3SLZAv",
        "outputId": "998a4807-517c-4959-a0a2-9921f320b014"
      },
      "execution_count": 6,
      "outputs": [
        {
          "output_type": "stream",
          "name": "stdout",
          "text": [
            "4\n"
          ]
        }
      ]
    },
    {
      "cell_type": "code",
      "source": [
        "#Anagram\n",
        "s1=\"listen\"\n",
        "s2=\"silent\"\n",
        "s3= \"yes\" if (sorted(s1)==sorted(s2)) else \"no\"\n",
        "print(s3)\n",
        ""
      ],
      "metadata": {
        "colab": {
          "base_uri": "https://localhost:8080/"
        },
        "id": "T1QZFXzNL0-V",
        "outputId": "af9b797a-3a91-4298-af01-66b2022f968a"
      },
      "execution_count": 8,
      "outputs": [
        {
          "output_type": "stream",
          "name": "stdout",
          "text": [
            "yes\n"
          ]
        }
      ]
    }
  ]
}